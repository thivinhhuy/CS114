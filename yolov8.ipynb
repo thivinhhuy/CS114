{
  "nbformat": 4,
  "nbformat_minor": 0,
  "metadata": {
    "colab": {
      "provenance": [],
      "gpuType": "T4",
      "private_outputs": true,
      "authorship_tag": "ABX9TyNwwRfumPgPueQtP6ICkGE0",
      "include_colab_link": true
    },
    "kernelspec": {
      "name": "python3",
      "display_name": "Python 3"
    },
    "language_info": {
      "name": "python"
    },
    "accelerator": "GPU"
  },
  "cells": [
    {
      "cell_type": "markdown",
      "metadata": {
        "id": "view-in-github",
        "colab_type": "text"
      },
      "source": [
        "<a href=\"https://colab.research.google.com/github/thivinhhuy/CS114.N21.KHCL/blob/main/yolov8.ipynb\" target=\"_parent\"><img src=\"https://colab.research.google.com/assets/colab-badge.svg\" alt=\"Open In Colab\"/></a>"
      ]
    },
    {
      "cell_type": "markdown",
      "source": [
        "<h1 align=\"center\"><b>Đồ án cuối kỳ môn Máy học - CS114.N21.KHCL</b></h1>\n",
        "<h1 align=\"center\"><b>Multi-Class Product Counting & Recognition for Automated Retail Checkout</b></h1>\n",
        "\n",
        "* Bộ môn: Máy học - CS114.N21.KHCL\n",
        "* Giảng viên:\n",
        "  * Lê Đình Duy\n",
        "  * Phạm Nguyễn Trường An\n",
        "* Thành viên nhóm:\n",
        "  - Thi Vĩnh Huy - 21522165\n",
        "  - Trần Thanh Hà - 21521749\n",
        "  - Ngô Xuân Cường - 21520663\n",
        "  - Phi Quang Đạt - 21520711\n",
        "\n",
        "\n",
        "\n",
        "<h1 align=\"center\"><b>TRAINED MODEL YOLOV8</b></h1>"
      ],
      "metadata": {
        "id": "NCe6eiD2ws2I"
      }
    },
    {
      "cell_type": "code",
      "execution_count": null,
      "metadata": {
        "id": "eF46-5kvmVCH"
      },
      "outputs": [],
      "source": [
        "from google.colab import drive\n",
        "drive.mount('/content/gdrive')"
      ]
    },
    {
      "cell_type": "code",
      "source": [
        "\n",
        "!pip install ultralytics"
      ],
      "metadata": {
        "id": "oTufjNha0d9w"
      },
      "execution_count": null,
      "outputs": []
    },
    {
      "cell_type": "code",
      "source": [
        "\n",
        "!pip install clearml"
      ],
      "metadata": {
        "id": "YhduFGXF0irR"
      },
      "execution_count": null,
      "outputs": []
    },
    {
      "cell_type": "code",
      "source": [
        "!git clone https://github.com/ultralytics/ultralytics\n",
        "!cd ultralytics\n",
        "!pip install -e ultralytics"
      ],
      "metadata": {
        "id": "TDkJN3_n0z2w"
      },
      "execution_count": null,
      "outputs": []
    },
    {
      "cell_type": "code",
      "source": [
        "!gdown --id 1VBFR2w4f2xpUMAb3qHwgqilvFL0QTV8z"
      ],
      "metadata": {
        "id": "MoNfW9BPb5wM"
      },
      "execution_count": null,
      "outputs": []
    },
    {
      "cell_type": "code",
      "source": [
        "!gdown --id 1VBFR2w4f2xpUMAb3qHwgqilvFL0QTV8z"
      ],
      "metadata": {
        "id": "1Vfl0EnbceI7"
      },
      "execution_count": null,
      "outputs": []
    },
    {
      "cell_type": "code",
      "source": [
        "!unzip /content/train.zip\n",
        "!unzip /content/val.zip"
      ],
      "metadata": {
        "id": "4o1eXkvXcsnc"
      },
      "execution_count": null,
      "outputs": []
    },
    {
      "cell_type": "code",
      "source": [
        "import os\n",
        "import shutil\n",
        "import random\n",
        "import tqdm"
      ],
      "metadata": {
        "id": "m8XZXm8X08qh"
      },
      "execution_count": null,
      "outputs": []
    },
    {
      "cell_type": "code",
      "source": [
        "train_path_img = \"/content/gdrive/MyDrive/train/img\"\n",
        "train_path_label = \"/content/gdrive/MyDrive/train/label\"\n",
        "val_path_img = \"/content/gdrive/MyDrive/val/img\"\n",
        "val_path_img = \"/content/gdrive/MyDrive/val/label\""
      ],
      "metadata": {
        "id": "ZKSsKsSQNovo"
      },
      "execution_count": null,
      "outputs": []
    },
    {
      "cell_type": "code",
      "source": [
        "!yolo task=detect mode=train model=yolov8n.pt imgsz=640 data=/content/gdrive/MyDrive/dataset.yaml epochs=10 batch=8 name=yolov8n_custom\n"
      ],
      "metadata": {
        "id": "AlssOaA8RvuE"
      },
      "execution_count": null,
      "outputs": []
    },
    {
      "cell_type": "code",
      "source": [
        "!zip /content/gdrive/MyDrive/train.zip /content/gdrive/MyDrive/train"
      ],
      "metadata": {
        "id": "yuEGRIZooWV6"
      },
      "execution_count": null,
      "outputs": []
    }
  ]
}