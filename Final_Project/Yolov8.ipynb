{
  "nbformat": 4,
  "nbformat_minor": 0,
  "metadata": {
    "colab": {
      "provenance": [],
      "gpuType": "T4",
      "private_outputs": true,
      "include_colab_link": true
    },
    "kernelspec": {
      "name": "python3",
      "display_name": "Python 3"
    },
    "language_info": {
      "name": "python"
    },
    "accelerator": "GPU"
  },
  "cells": [
    {
      "cell_type": "markdown",
      "metadata": {
        "id": "view-in-github",
        "colab_type": "text"
      },
      "source": [
        "<a href=\"https://colab.research.google.com/github/thivinhhuy/CS114.N21.KHCL/blob/main/yolov8.ipynb\" target=\"_parent\"><img src=\"https://colab.research.google.com/assets/colab-badge.svg\" alt=\"Open In Colab\"/></a>"
      ]
    },
    {
      "cell_type": "markdown",
      "source": [
        "<h1 align=\"center\"><b>Đồ án cuối kỳ môn Máy học - CS114.N21.KHCL</b></h1>\n",
        "<h1 align=\"center\"><b>Multi-Class Product Counting & Recognition for Automated Retail Checkout</b></h1>\n",
        "\n",
        "* Bộ môn: Máy học - CS114.N21.KHCL\n",
        "* Giảng viên:\n",
        "  * Lê Đình Duy\n",
        "  * Phạm Nguyễn Trường An\n",
        "* Thành viên nhóm:\n",
        "  - Thi Vĩnh Huy - 21522165\n",
        "  - Trần Thanh Hà - 21521749\n",
        "  - Ngô Xuân Cường - 21520663\n",
        "  - Phi Quang Đạt - 21520711\n",
        "\n",
        "\n",
        "\n",
        "<h1 align=\"center\"><b>TRAINED MODEL YOLOV8</b></h1>"
      ],
      "metadata": {
        "id": "NCe6eiD2ws2I"
      }
    },
    {
      "cell_type": "code",
      "execution_count": null,
      "metadata": {
        "id": "eF46-5kvmVCH"
      },
      "outputs": [],
      "source": [
        "# Liên kết drive\n",
        "from google.colab import drive\n",
        "drive.mount('/content/gdrive')"
      ]
    },
    {
      "cell_type": "code",
      "source": [
        "# tạo file custom_dataset.yaml\n",
        "import yaml\n",
        "\n",
        "data = {\n",
        "    'path': 'pothole_dataset_v8/',\n",
        "    'train': '/content/train',\n",
        "    'val': '/content/val',\n",
        "    'names': {\n",
        "        0: 'mi_gau_do',\n",
        "        1: 'TH_true_milk',\n",
        "        2: 'coca_chai',\n",
        "        3: 'caffee_sua',\n",
        "        4: 'snack_cua',\n",
        "        5: 'fami_canxi',\n",
        "        6: 'fami_it',\n",
        "        7: 'snack_bap',\n",
        "        8: 'ly_giay',\n",
        "        9: 'keo_sua',\n",
        "        10: 'cuntas_com',\n",
        "        11: 'ostaar',\n",
        "        12: 'banh_gao',\n",
        "        13: 'mi_hao_hao',\n",
        "        14: 'mi_ly_cungdinh',\n",
        "        15: 'snack_boluclac',\n",
        "        16: 'cuoc_ ruachen',\n",
        "        17: 'keo_chocoball',\n",
        "        18: 'nuoc_suoi_TH',\n",
        "        19: 'OREO',\n",
        "        20: 'coca_lon_plus',\n",
        "        21: 'tuong_ot_namduong',\n",
        "        22: 'tuong_ot_chinsu',\n",
        "        23: 'dau_an_truongan',\n",
        "        24: 'keo_xylitol',\n",
        "        25: 'nuoc_tuong_magi',\n",
        "        26: 'nuoc_nam_cholimex',\n",
        "        27: 'binh_xit_con_trung_Raid',\n",
        "        28: 'mi_miliket',\n",
        "        29: 'banh_danisa',\n",
        "        30: 'chai_revive',\n",
        "        31: 'nestle_milo',\n",
        "        32: 'nuoc_sucmieng',\n",
        "        33: 'tam_bong_niva',\n",
        "        34: 'nuoc_tay_vim',\n",
        "        35: 'singum_extra',\n",
        "        36: 'binh_xit_con_trung_VAPE',\n",
        "        37: 'khan_kho_topgia',\n",
        "        38: 'bodyspray_romano',\n",
        "        39: 'kem_cao_rau_gilette',\n",
        "        40: 'lan_khu_mui_xmen',\n",
        "        41: 'lan_khu_mui_niveamen',\n",
        "        42: 'binh_xit_con_trung_Raid_lon',\n",
        "        43: 'banh_xop_sando',\n",
        "        44: 'keo_alpenliebe',\n",
        "        45: 'vaselien_nho',\n",
        "        46: 'kem_chong_nang_woolworths',\n",
        "        47: 'sua_duong_the_OLAY',\n",
        "        48: 'thuc_pham_chuc_nang_blackmore',\n",
        "        49: 'dau_goi_dau_heads_shoulders',\n",
        "        50: 'sua_tam_Stlives',\n",
        "        51: 'nuoc_tay_trang_Javel',\n",
        "        52: 'luong_kho',\n",
        "        53: 'matcha_cozy',\n",
        "        54: 'khan_uot_puri'\n",
        "    }\n",
        "}\n",
        "\n",
        "with open('costum_dataset.yaml', 'w') as file:\n",
        "    yaml.dump(data, file)\n"
      ],
      "metadata": {
        "id": "5yYO9LhoAdYS"
      },
      "execution_count": null,
      "outputs": []
    },
    {
      "cell_type": "code",
      "source": [
        "#tải ultralytics\n",
        "!pip install ultralytics"
      ],
      "metadata": {
        "id": "oTufjNha0d9w"
      },
      "execution_count": null,
      "outputs": []
    },
    {
      "cell_type": "code",
      "source": [
        "# tải clearml để quản lý và theo dõi trong quá trình train\n",
        "!pip install clearml"
      ],
      "metadata": {
        "id": "YhduFGXF0irR"
      },
      "execution_count": null,
      "outputs": []
    },
    {
      "cell_type": "code",
      "source": [
        "#Tải bộ datasets train cho model yolov8 của nhóm về\n",
        "!gdown 1LWoLR9WoHMCy2zRiP49TlaY1NNi-DSSg"
      ],
      "metadata": {
        "id": "MoNfW9BPb5wM"
      },
      "execution_count": null,
      "outputs": []
    },
    {
      "cell_type": "code",
      "source": [
        "#Tải bộ datasets val cho model yolov8 của nhóm về\n",
        "!gdown 1XDYiyuwx_nmj_jeEraW3zwmG2BBc9_4W"
      ],
      "metadata": {
        "id": "1Vfl0EnbceI7"
      },
      "execution_count": null,
      "outputs": []
    },
    {
      "cell_type": "code",
      "source": [
        "#Tải bộ tập test cho model yolov8 của nhóm về\n",
        "!gdown 1632qlMCGTMxh2ktPoGbkBMLzmlA3_M23"
      ],
      "metadata": {
        "id": "wMdHG_4YAfwc"
      },
      "execution_count": null,
      "outputs": []
    },
    {
      "cell_type": "code",
      "source": [
        "#giải nén tập dataset train, val và test\n",
        "!unzip /content/train.zip\n",
        "!unzip /content/val.zip\n",
        "!unzip /content/test.zip"
      ],
      "metadata": {
        "id": "4o1eXkvXcsnc"
      },
      "execution_count": null,
      "outputs": []
    },
    {
      "cell_type": "code",
      "source": [
        "#bắt đầu train dataset với tập train và val đã tạo trong tập custom_dataset.yaml\n",
        "!yolo task=detect mode=train model=yolov8n.pt imgsz=640 data=/content/costum_dataset.yaml epochs=10 batch=8 name=yolov8n_custom\n"
      ],
      "metadata": {
        "id": "AlssOaA8RvuE"
      },
      "execution_count": null,
      "outputs": []
    },
    {
      "cell_type": "code",
      "source": [
        "#bắt đầu chạy tập test với model test là các parameter tốt nhất trong tập train\n",
        "!yolo task=detect mode=predict model=runs/detect/yolov8n_v8_50e/weights/best.pt source=content/test show=True imgsz=1280 name=yolov8n_v8_50e_infer1280 hide_labels=True\n"
      ],
      "metadata": {
        "id": "waLP61nTPvID"
      },
      "execution_count": null,
      "outputs": []
    }
  ]
}
